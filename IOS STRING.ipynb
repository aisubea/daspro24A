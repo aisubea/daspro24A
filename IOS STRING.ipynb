{
 "cells": [
  {
   "cell_type": "code",
   "execution_count": 4,
   "id": "5fbe6f7b",
   "metadata": {},
   "outputs": [
    {
     "name": "stdout",
     "output_type": "stream",
     "text": [
      "isikan nama andaAkmal\n",
      "Selamat datang Akmal\n",
      "123\n",
      "Akmal@Nurul@Firman\n"
     ]
    }
   ],
   "source": [
    "name = input (\"isikan nama anda\")\n",
    "print (\"Selamat datang\",name)#menggabungkan variabel string\n",
    "print (\"1\",end='')#mencetak di samping karakter\n",
    "print (\"2\",end='')\n",
    "print (\"3\")\n",
    "\n",
    "#separator\n",
    "print(\"Akmal\",\"Nurul\",\"Firman\",sep=\"@\")\n"
   ]
  },
  {
   "cell_type": "markdown",
   "id": "c5398b0f",
   "metadata": {},
   "source": [
    "<h1>String Format</h1>"
   ]
  },
  {
   "cell_type": "code",
   "execution_count": 3,
   "id": "b24796c3",
   "metadata": {},
   "outputs": [
    {
     "name": "stdout",
     "output_type": "stream",
     "text": [
      "isikan bilangan 1 :5\n",
      "isikan bilangan 2 :4\n",
      "hasil penjumlahan 5 + 4 = 9\n",
      "hasil penjumlahan 5 + 4 = 9\n"
     ]
    }
   ],
   "source": [
    "Val1 = int (input(\"isikan bilangan 1 :\"))\n",
    "Val2 = int (input(\"isikan bilangan 2 :\"))\n",
    "#hasil penjumlahan 3 + 4 = 7\n",
    "print(\"hasil penjumlahan\",Val1,\"+\",Val2,\"=\",Val1+Val2)\n",
    "#string format menggunakan tanda {}\n",
    "print(\"hasil penjumlahan {} + {} = {}\".format(Val1,Val2,Val1 + Val2))"
   ]
  },
  {
   "cell_type": "markdown",
   "id": "1be0dc6a",
   "metadata": {},
   "source": [
    "<h1>String Format Index</h1>"
   ]
  },
  {
   "cell_type": "code",
   "execution_count": 5,
   "id": "38fb98d8",
   "metadata": {},
   "outputs": [
    {
     "name": "stdout",
     "output_type": "stream",
     "text": [
      "isikan nama depan:Raja\n",
      "isikan nama tengah:Muhammad Musyriful\n",
      "isikan nama belakang:Akmal\n",
      "nama anda:Raja Muhammad Musyriful Akmal\n",
      "nama anda:Muhammad Musyriful Raja Akmal\n",
      "nama anda : Raja Muhammad Musyriful Akmal\n"
     ]
    }
   ],
   "source": [
    "fName = input(\"isikan nama depan:\")\n",
    "mName = input(\"isikan nama tengah:\")\n",
    "lName = input(\"isikan nama belakang:\")\n",
    "\n",
    "print(\"nama anda:{} {} {}\".format(fName,mName,lName))\n",
    "print(\"nama anda:{1} {0} {2}\".format(fName,mName,lName))\n",
    "#menggabungkan key\n",
    "print(\"nama anda : {depan} {tengah} {belakang}\".format(depan=fName,tengah=mName,belakang=lName))"
   ]
  },
  {
   "cell_type": "markdown",
   "id": "aab72c92",
   "metadata": {},
   "source": [
    "<h1> Slicing </h1>\n",
    "\n"
   ]
  },
  {
   "cell_type": "code",
   "execution_count": 6,
   "id": "57749955",
   "metadata": {},
   "outputs": [
    {
     "name": "stdout",
     "output_type": "stream",
     "text": [
      "isikan nama kampus anda :Nusa Putra\n",
      "N\n",
      "Nusa \n",
      "a\n",
      "usa Putra\n"
     ]
    }
   ],
   "source": [
    "university = input(\"isikan nama kampus anda :\")\n",
    "#mencetak karakter pertama\n",
    "print (university[0])\n",
    "#mencetak karakter pertama sampai ke 5\n",
    "print (university[0:5])\n",
    "#mencetak karakter paling akhir\n",
    "print (university[-1])\n",
    "#mencetak karakter ke 2 sampai selesai\n",
    "print(university[1: ])\n",
    "\n"
   ]
  },
  {
   "cell_type": "markdown",
   "id": "cc248d0b",
   "metadata": {},
   "source": [
    "<h1>Fungsi String</h1>\n"
   ]
  },
  {
   "cell_type": "code",
   "execution_count": 1,
   "id": "fed9cda2",
   "metadata": {},
   "outputs": [
    {
     "name": "stdout",
     "output_type": "stream",
     "text": [
      "isikan nama lengkap :Raja Muhammad Musyriful Akmal\n",
      "nama depan Raja\n",
      "nama tengah Muhammad\n",
      "nama belakang Musyriful\n",
      "nama anda adalah Raja Muhammad Musyriful Akmal\n",
      "6\n"
     ]
    }
   ],
   "source": [
    "fullName = input(\"isikan nama lengkap :\")\n",
    "#split - untuk memisahkan string berdasarkan karakter tertentu\n",
    "name = fullName.split(' ')\n",
    "print(\"nama depan\", name [0])\n",
    "print(\"nama tengah\", name [1])\n",
    "print(\"nama belakang\", name [2])\n",
    "\n",
    "#print fstring\n",
    "print(f\"nama anda adalah {fullName}\") #sering digunakan\n",
    "\n",
    "#find untuk mencari karakter dalam string\n",
    "#jika ditemukan akan mengembalikan posisi indeks\n",
    "#jika tidak ditemukan mengembalikan nilai -1\n",
    "platMobil = \" N7865BB \"\n",
    "print(platMobil.find(\"B\"))"
   ]
  },
  {
   "cell_type": "code",
   "execution_count": 3,
   "id": "52486263",
   "metadata": {},
   "outputs": [
    {
     "name": "stdout",
     "output_type": "stream",
     "text": [
      "masukkan email anda :rjakmal2409@gmail.com\n",
      "Posisi '@' : 11\n",
      "Posisi '.' : 17\n",
      "Email valid\n"
     ]
    }
   ],
   "source": [
    "email = input (\"masukkan email anda :\")\n",
    "cek1 = email.find(\"@\")\n",
    "cek2 = email.find(\".\")\n",
    "print(\"Posisi '@' :\", cek1)\n",
    "print(\"Posisi '.' :\", cek2)\n",
    "cekValid = \"Email valid\" if cek1 > -1 and cek2 > -1 and cek1 < cek2 else \"Tidak valid\"\n",
    "print(cekValid)"
   ]
  },
  {
   "cell_type": "markdown",
   "id": "9eca42ff",
   "metadata": {},
   "source": [
    "<h1>Random</h1>"
   ]
  },
  {
   "cell_type": "code",
   "execution_count": 20,
   "id": "b08ad9d7",
   "metadata": {},
   "outputs": [
    {
     "name": "stdout",
     "output_type": "stream",
     "text": [
      "hasil dari nilai acak adalah 0.38536379109913554\n",
      "hasil dari nilai acak-bulat adalah 14\n",
      "hasil dari acak bulan adalah September\n",
      "hasil dari acak hari adalah {'Thursday', 4}\n"
     ]
    }
   ],
   "source": [
    "from random import random\n",
    "nilai = random()\n",
    "print (f\"hasil dari nilai acak adalah {nilai}\")\n",
    "\n",
    "from random import randint\n",
    "nilaiInt = randint (0,100)\n",
    "print(f\"hasil dari nilai acak-bulat adalah {nilaiInt}\")\n",
    "\n",
    "from random import choice\n",
    "\n",
    "month = (\"Januari\",\"Februari\",\"Maret\",\"April,\",\"Mei\",\"Juni\",\"Juli\",\"Agustus\",\"September\",\"Oktober\",\"November\",\"Desember\")\n",
    "day = ({\"Monday\",1},{\"truesday\",2},{\"Wednesday\",3},{\"Thursday\",4},{\"Friday\",5},{\"Saturday\",6},{\"Sunday\",7})\n",
    "sMonth = choice(month)\n",
    "sDay = choice(day)\n",
    "print (f\"hasil dari acak bulan adalah {sMonth}\")\n",
    "print (f\"hasil dari acak hari adalah {sDay}\")\n",
    "\n"
   ]
  },
  {
   "cell_type": "code",
   "execution_count": 26,
   "id": "664a7952",
   "metadata": {},
   "outputs": [
    {
     "name": "stdout",
     "output_type": "stream",
     "text": [
      "Berapakah 96 * 69 :\n",
      "Isikan Hasilnya :6624\n",
      "Anda benar !!! \n"
     ]
    }
   ],
   "source": [
    "from random import randint,choice\n",
    "\n",
    "nilai1 = randint (0,100)\n",
    "nilai2 = randint (0,100)\n",
    "operator = [\"+\",\"-\",\"*\",\"/\"]\n",
    "sOperator = choice(operator)\n",
    "print(f\"Berapakah {nilai1} {sOperator} {nilai2} :\")\n",
    "jawab = int(input(\"Isikan Hasilnya :\"))\n",
    "\n",
    "#IF ELSE\n",
    "if sOperator == \"+\":\n",
    "    cekJawab = \"Anda benar !!! \" if jawab == nilai1 + nilai2 else \"Anda Salah !!!\"\n",
    "elif sOperator == \"-\":\n",
    "    cekJawab = \"Anda benar !!! \" if jawab == nilai1 - nilai2 else \"Anda Salah !!!\"\n",
    "elif sOperator == \"*\":\n",
    "     cekJawab = \"Anda benar !!! \" if jawab == nilai1 * nilai2 else \"Anda Salah !!!\"\n",
    "elif sOperator == \"/\":\n",
    "     cekJawab = \"Anda benar !!! \" if jawab == nilai1 / nilai2 else \"Anda Salah !!!\"\n",
    "\n",
    "print(cekJawab)"
   ]
  },
  {
   "cell_type": "code",
   "execution_count": 28,
   "id": "6a8455b4",
   "metadata": {},
   "outputs": [
    {
     "name": "stdout",
     "output_type": "stream",
     "text": [
      "ENG->IND (1), IND ->ENG (2)1\n",
      "Apa arti dari reading?\n",
      "Isikan Jawaban :membaca\n",
      "Anda Benar !!!\n"
     ]
    }
   ],
   "source": [
    "from random import choice\n",
    "kamus = [[\"makan\",\"eat\"],[\"minum\",\"drink\"],[\"membaca\",\"reading\"], [\"berenang\", \"swim\"]]\n",
    "sKamus = choice(kamus)\n",
    "pilihan = int(input(\"ENG->IND (1), IND ->ENG (2)\"))\n",
    "if pilihan ==1:\n",
    "    print(f\"Apa arti dari {sKamus[1]}?\")\n",
    "    jawab = input (\"Isikan Jawaban :\")\n",
    "    cekTranslate = \"Anda Benar !!!\" if jawab.lower() == sKamus [0] else \" Anda Salah !!!\"\n",
    "elif pilihan ==2:\n",
    "    print(f\"Apa bahasa inggris dari {sKamus[1]}?\")\n",
    "    jawab = input (\"Isikan Jawaban :\")\n",
    "    cekTranslate = \"Anda Benar !!!\" if jawab.lower() == sKamus [0] else \" Anda Salah !!!\"\n",
    "\n",
    "print(cekTranslate)"
   ]
  },
  {
   "cell_type": "code",
   "execution_count": null,
   "id": "61de56d1",
   "metadata": {},
   "outputs": [],
   "source": []
  }
 ],
 "metadata": {
  "kernelspec": {
   "display_name": "Python 3 (ipykernel)",
   "language": "python",
   "name": "python3"
  },
  "language_info": {
   "codemirror_mode": {
    "name": "ipython",
    "version": 3
   },
   "file_extension": ".py",
   "mimetype": "text/x-python",
   "name": "python",
   "nbconvert_exporter": "python",
   "pygments_lexer": "ipython3",
   "version": "3.9.12"
  }
 },
 "nbformat": 4,
 "nbformat_minor": 5
}
