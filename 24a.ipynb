{
 "cells": [
  {
   "cell_type": "markdown",
   "id": "d9bf5448",
   "metadata": {},
   "source": [
    "<center><img src=\"https://cdn.freebiesupply.com/logos/large/2x/ea-games-logo-png-transparent.png\" width=\"300\"></center><br>\n",
    "logo phyton<br>\n",
    "tempat menuliskan code di sebut sebagai <b>cell</b><br>"
   ]
  },
  {
   "cell_type": "code",
   "execution_count": 25,
   "id": "c075553f",
   "metadata": {},
   "outputs": [
    {
     "name": "stdout",
     "output_type": "stream",
     "text": [
      "nama : Dedi\n",
      "umur : 20\n",
      "Alamat : Jl. cibolang\n",
      "Nilain pemerograman : (80, 5)\n",
      "status pernikahan : False\n"
     ]
    }
   ],
   "source": [
    "name = \"Dedi\"\n",
    "age = 20\n",
    "address,province =\"Jl. cibolang\",\"7413421\"\n",
    "scorePhython = 80,5\n",
    "isMarried = False\n",
    "\n",
    "print(\"nama :\",name)\n",
    "print(\"umur :\", age)\n",
    "print(\"Alamat :\",address)\n",
    "print(\"Nilain pemerograman :\", scorePhython)\n",
    "print(\"status pernikahan :\",isMarried)\n",
    "\n"
   ]
  },
  {
   "cell_type": "code",
   "execution_count": 23,
   "id": "f3dec261",
   "metadata": {},
   "outputs": [
    {
     "name": "stdout",
     "output_type": "stream",
     "text": [
      "Tipe Data <name> <class 'str'>\n",
      "Tipe Data <age> <class 'int'>\n",
      "Tipe Data <address> <class 'str'>\n",
      "Tipe Data <province> <class 'str'>\n",
      "Tipe Data <scorePhython> <class 'tuple'>\n",
      "Tipe Data <isMarried> <class 'bool'>\n"
     ]
    }
   ],
   "source": [
    "print(\"Tipe Data <name>\", type(name))\n",
    "print(\"Tipe Data <age>\", type(age))\n",
    "print(\"Tipe Data <address>\", type(address))\n",
    "print(\"Tipe Data <province>\", type(province))\n",
    "print(\"Tipe Data <scorePhython>\" , type(scorePhython))\n",
    "print(\"Tipe Data <isMarried>\" , type(isMarried))"
   ]
  },
  {
   "cell_type": "code",
   "execution_count": 42,
   "id": "fe19e021",
   "metadata": {},
   "outputs": [
    {
     "name": "stdout",
     "output_type": "stream",
     "text": [
      "7413421-7413421.0-True\n",
      "20-20.0-True\n"
     ]
    },
    {
     "ename": "TypeError",
     "evalue": "int() argument must be a string, a bytes-like object or a number, not 'tuple'",
     "output_type": "error",
     "traceback": [
      "\u001b[1;31m---------------------------------------------------------------------------\u001b[0m",
      "\u001b[1;31mTypeError\u001b[0m                                 Traceback (most recent call last)",
      "Input \u001b[1;32mIn [42]\u001b[0m, in \u001b[0;36m<cell line: 14>\u001b[1;34m()\u001b[0m\n\u001b[0;32m     12\u001b[0m \u001b[38;5;66;03m#Konversi dari float ke (str,int,bool)\u001b[39;00m\n\u001b[0;32m     13\u001b[0m FloatToStr \u001b[38;5;241m=\u001b[39m \u001b[38;5;28mstr\u001b[39m (scorePhython)\n\u001b[1;32m---> 14\u001b[0m FloatToInt \u001b[38;5;241m=\u001b[39m \u001b[38;5;28;43mint\u001b[39;49m\u001b[43m \u001b[49m\u001b[43m(\u001b[49m\u001b[43mscorePhython\u001b[49m\u001b[43m)\u001b[49m\n\u001b[0;32m     15\u001b[0m FloatToBool \u001b[38;5;241m=\u001b[39m \u001b[38;5;28mbool\u001b[39m (scorePhython)\n\u001b[0;32m     16\u001b[0m \u001b[38;5;28mprint\u001b[39m (FloatToStr,FloatToInt,FloatToBool, sep\u001b[38;5;241m=\u001b[39m\u001b[38;5;124m\"\u001b[39m\u001b[38;5;124m-\u001b[39m\u001b[38;5;124m\"\u001b[39m)\n",
      "\u001b[1;31mTypeError\u001b[0m: int() argument must be a string, a bytes-like object or a number, not 'tuple'"
     ]
    }
   ],
   "source": [
    "#casting atau konversi Tipe Data\n",
    "#Konversi dari string ke (int,Float,bool)\n",
    "strToInt = int (province)\n",
    "strToFloat = float (province)\n",
    "strToBool = bool (province)\n",
    "print (strToInt,strToFloat,strToBool, sep=\"-\")\n",
    "#Konversi dari int ke (str,int,bool)\n",
    "intToStr = str (age)\n",
    "intToFloat = float (age)\n",
    "intToBool = bool (age)\n",
    "print (intToStr,intToFloat,intToBool, sep=\"-\")\n",
    "#Konversi dari float ke (str,int,bool)\n",
    "FloatToStr = str (scorePhython)\n",
    "FloatToInt = int (scorePhython)\n",
    "FloatToBool = bool (scorePhython)\n",
    "print (FloatToStr,FloatToInt,FloatToBool, sep=\"-\")\n",
    "#Konversi dari bool ke (str,int,bool)\n",
    "boolToInt = int (isMarried)\n",
    "boolToFloat = float (isMarried)\n",
    "boolToStr = str (isMarried)\n",
    "print (boolToInt,boolToFloat,boolToStr, sep =\"-\")\n"
   ]
  },
  {
   "cell_type": "code",
   "execution_count": null,
   "id": "c7e890b4",
   "metadata": {},
   "outputs": [],
   "source": []
  }
 ],
 "metadata": {
  "kernelspec": {
   "display_name": "Python 3 (ipykernel)",
   "language": "python",
   "name": "python3"
  },
  "language_info": {
   "codemirror_mode": {
    "name": "ipython",
    "version": 3
   },
   "file_extension": ".py",
   "mimetype": "text/x-python",
   "name": "python",
   "nbconvert_exporter": "python",
   "pygments_lexer": "ipython3",
   "version": "3.9.12"
  }
 },
 "nbformat": 4,
 "nbformat_minor": 5
}
